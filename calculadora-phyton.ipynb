{
  "nbformat": 4,
  "nbformat_minor": 0,
  "metadata": {
    "colab": {
      "provenance": []
    },
    "kernelspec": {
      "name": "python3",
      "display_name": "Python 3"
    },
    "language_info": {
      "name": "python"
    }
  },
  "cells": [
    {
      "cell_type": "code",
      "execution_count": 22,
      "metadata": {
        "id": "cOFJ3QkaNY2v"
      },
      "outputs": [],
      "source": [
        "def calcular():\n",
        "    while True:\n",
        "        # Números de Entrada dos Usuários\n",
        "        numero1 = float(input(\"Digite o primeiro número: \"))\n",
        "        numero2 = float(input(\"Digite o segundo número: \"))\n",
        "\n",
        "        # Escolher qual operação deseja realizar\n",
        "        print(\"Escolha a operação:\")\n",
        "        print(\"1. Adição (+)\")\n",
        "        print(\"2. Subtração (-)\")\n",
        "        print(\"3. Multiplicação (*)\")\n",
        "        print(\"4. Divisão (/)\")\n",
        "\n",
        "        operacao = input(\"Digite o número da operação desejada (1/2/3/4):\")\n",
        "\n",
        "        # Implementar as operações matemáticas\n",
        "        if operacao == '1':\n",
        "            resultado = numero1 + numero2\n",
        "            print(f\"O resultado de {numero1} + {numero2} = {resultado}\")\n",
        "        elif operacao == '2':\n",
        "            resultado = numero1 - numero2\n",
        "            print(f\"O resultado de {numero1} - {numero2} = {resultado}\")\n",
        "        elif operacao == '3':\n",
        "            resultado = numero1 * numero2\n",
        "            print(f\"O resultado de {numero1} * {numero2} = {resultado}\")\n",
        "        elif operacao == '4':\n",
        "            if numero2 != 0:\n",
        "                resultado = numero1 / numero2\n",
        "                print(f\"O resultado de {numero1} / {numero2} = {resultado}\")\n",
        "            else:\n",
        "                print(\"Erro: Divisão por zero não é permitida.\")\n",
        "        else:\n",
        "            print(\"Operação inválida. Tente novamente.\")\n",
        "\n",
        "        # Usuário deseja permanecer na calculadora ou sair\n",
        "        continuar = input(\"Deseja realizar outra operação? (s/n): \").lower()\n",
        "        if continuar != 's':\n",
        "            print(\"Encerrando a calculadora. Obrigado por utilizar!\")\n",
        "            break"
      ]
    }
  ]
}